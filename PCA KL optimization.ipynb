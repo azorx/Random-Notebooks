{
 "cells": [
  {
   "cell_type": "code",
   "execution_count": 241,
   "metadata": {
    "scrolled": true
   },
   "outputs": [],
   "source": [
    "import numpy as np\n",
    "from scipy.misc import derivative\n",
    "from scipy.optimize import approx_fprime\n",
    "from pandas_datareader import data\n",
    "from sklearn.decomposition import PCA \n",
    "import matplotlib.pyplot as plt\n",
    "import cvxopt as opt  \n",
    "from cvxopt import blas, solvers  "
   ]
  },
  {
   "cell_type": "code",
   "execution_count": 279,
   "metadata": {},
   "outputs": [],
   "source": [
    "stocks = [\"UN\", \"AAPL\",\"IBM\",\"MSFT\",\"FB\",\"AAPL\",\"MMM\",\"ABT\",\"ALLE\",\"AAP\"]"
   ]
  },
  {
   "cell_type": "code",
   "execution_count": 280,
   "metadata": {},
   "outputs": [],
   "source": [
    "prices = data.DataReader(stocks, \n",
    "                       start='2015-1-1', \n",
    "                       end='2015-12-31', \n",
    "                       data_source='yahoo')['Adj Close']\n",
    "returns = prices.pct_change().dropna()"
   ]
  },
  {
   "cell_type": "code",
   "execution_count": 282,
   "metadata": {},
   "outputs": [],
   "source": [
    "prices_oos = data.DataReader(stocks, \n",
    "                       start='2016-1-1', \n",
    "                       end='2016-7-1', \n",
    "                       data_source='yahoo')['Adj Close']\n",
    "\n",
    "returns_oos = prices_oos.pct_change().dropna()"
   ]
  },
  {
   "cell_type": "code",
   "execution_count": 260,
   "metadata": {},
   "outputs": [
    {
     "data": {
      "text/html": [
       "<div>\n",
       "<style scoped>\n",
       "    .dataframe tbody tr th:only-of-type {\n",
       "        vertical-align: middle;\n",
       "    }\n",
       "\n",
       "    .dataframe tbody tr th {\n",
       "        vertical-align: top;\n",
       "    }\n",
       "\n",
       "    .dataframe thead th {\n",
       "        text-align: right;\n",
       "    }\n",
       "</style>\n",
       "<table border=\"1\" class=\"dataframe\">\n",
       "  <thead>\n",
       "    <tr style=\"text-align: right;\">\n",
       "      <th>Symbols</th>\n",
       "      <th>AAP</th>\n",
       "      <th>AAPL</th>\n",
       "      <th>ABT</th>\n",
       "      <th>ALLE</th>\n",
       "      <th>FB</th>\n",
       "      <th>IBM</th>\n",
       "      <th>MMM</th>\n",
       "      <th>MSFT</th>\n",
       "      <th>UN</th>\n",
       "    </tr>\n",
       "    <tr>\n",
       "      <th>Date</th>\n",
       "      <th></th>\n",
       "      <th></th>\n",
       "      <th></th>\n",
       "      <th></th>\n",
       "      <th></th>\n",
       "      <th></th>\n",
       "      <th></th>\n",
       "      <th></th>\n",
       "      <th></th>\n",
       "    </tr>\n",
       "  </thead>\n",
       "  <tbody>\n",
       "    <tr>\n",
       "      <th>2015-01-05</th>\n",
       "      <td>-0.013181</td>\n",
       "      <td>-0.028172</td>\n",
       "      <td>0.000223</td>\n",
       "      <td>-0.001998</td>\n",
       "      <td>-0.016061</td>\n",
       "      <td>-0.015735</td>\n",
       "      <td>-0.022553</td>\n",
       "      <td>-0.009196</td>\n",
       "      <td>-0.025310</td>\n",
       "    </tr>\n",
       "    <tr>\n",
       "      <th>2015-01-06</th>\n",
       "      <td>-0.000703</td>\n",
       "      <td>0.000094</td>\n",
       "      <td>-0.011356</td>\n",
       "      <td>-0.001638</td>\n",
       "      <td>-0.013473</td>\n",
       "      <td>-0.021566</td>\n",
       "      <td>-0.010663</td>\n",
       "      <td>-0.014678</td>\n",
       "      <td>-0.002650</td>\n",
       "    </tr>\n",
       "    <tr>\n",
       "      <th>2015-01-07</th>\n",
       "      <td>0.021489</td>\n",
       "      <td>0.014022</td>\n",
       "      <td>0.008108</td>\n",
       "      <td>0.013674</td>\n",
       "      <td>0.000000</td>\n",
       "      <td>-0.006536</td>\n",
       "      <td>0.007249</td>\n",
       "      <td>0.012705</td>\n",
       "      <td>0.013549</td>\n",
       "    </tr>\n",
       "    <tr>\n",
       "      <th>2015-01-08</th>\n",
       "      <td>0.008766</td>\n",
       "      <td>0.038422</td>\n",
       "      <td>0.020554</td>\n",
       "      <td>0.013489</td>\n",
       "      <td>0.026658</td>\n",
       "      <td>0.021735</td>\n",
       "      <td>0.023967</td>\n",
       "      <td>0.029418</td>\n",
       "      <td>0.021232</td>\n",
       "    </tr>\n",
       "    <tr>\n",
       "      <th>2015-01-09</th>\n",
       "      <td>-0.005089</td>\n",
       "      <td>0.001072</td>\n",
       "      <td>-0.010508</td>\n",
       "      <td>-0.008341</td>\n",
       "      <td>-0.005628</td>\n",
       "      <td>0.004355</td>\n",
       "      <td>-0.012284</td>\n",
       "      <td>-0.008405</td>\n",
       "      <td>-0.010010</td>\n",
       "    </tr>\n",
       "  </tbody>\n",
       "</table>\n",
       "</div>"
      ],
      "text/plain": [
       "Symbols          AAP      AAPL       ABT      ALLE        FB       IBM  \\\n",
       "Date                                                                     \n",
       "2015-01-05 -0.013181 -0.028172  0.000223 -0.001998 -0.016061 -0.015735   \n",
       "2015-01-06 -0.000703  0.000094 -0.011356 -0.001638 -0.013473 -0.021566   \n",
       "2015-01-07  0.021489  0.014022  0.008108  0.013674  0.000000 -0.006536   \n",
       "2015-01-08  0.008766  0.038422  0.020554  0.013489  0.026658  0.021735   \n",
       "2015-01-09 -0.005089  0.001072 -0.010508 -0.008341 -0.005628  0.004355   \n",
       "\n",
       "Symbols          MMM      MSFT        UN  \n",
       "Date                                      \n",
       "2015-01-05 -0.022553 -0.009196 -0.025310  \n",
       "2015-01-06 -0.010663 -0.014678 -0.002650  \n",
       "2015-01-07  0.007249  0.012705  0.013549  \n",
       "2015-01-08  0.023967  0.029418  0.021232  \n",
       "2015-01-09 -0.012284 -0.008405 -0.010010  "
      ]
     },
     "execution_count": 260,
     "metadata": {},
     "output_type": "execute_result"
    }
   ],
   "source": [
    "returns.head()"
   ]
  },
  {
   "cell_type": "code",
   "execution_count": 447,
   "metadata": {},
   "outputs": [],
   "source": [
    "def factor_exposure(returns, weights):\n",
    "\n",
    "    correct_weights = abs(weights)/np.sum(abs(weights))\n",
    "        \n",
    "    weighted_port = [w*returns.iloc[:,i].values \n",
    "                     for i, w in enumerate(correct_weights)]\n",
    "\n",
    "    pca = PCA()\n",
    "    factors = pca.fit_transform(weighted_port)\n",
    "    \n",
    "    return pca.explained_variance_ratio_"
   ]
  },
  {
   "cell_type": "code",
   "execution_count": 398,
   "metadata": {},
   "outputs": [],
   "source": [
    "def training_loss(weights):\n",
    "    \n",
    "    exposure = factor_exposure(returns, weights)\n",
    "    \n",
    "    uniform = 1/len(exposure)\n",
    "    target = np.ones(len(exposure)) * uniform\n",
    "    \n",
    "    probs = exposure * target + (1 - exposure) * (1 - target)\n",
    "    \n",
    "    return -np.sum(np.log(probs))    "
   ]
  },
  {
   "cell_type": "code",
   "execution_count": 479,
   "metadata": {},
   "outputs": [],
   "source": [
    "def optimize_weights(returns, iterations=100):\n",
    "    \n",
    "    weights = np.ones(returns.shape[1])/returns.shape[1]\n",
    "    epsilon = np.ones(len(weights))*1e-6\n",
    "\n",
    "    losses = [training_loss(weights)]\n",
    "\n",
    "    for i in range(iterations):\n",
    "        gradients = approx_fprime(weights, training_loss, epsilon=epsilon)\n",
    "        weights -= gradients\n",
    "\n",
    "        losses.append(training_loss(weights))\n",
    "\n",
    "    correct_weights = abs(weights)/np.sum(abs(weights))\n",
    "    \n",
    "    return correct_weights"
   ]
  },
  {
   "cell_type": "code",
   "execution_count": 480,
   "metadata": {},
   "outputs": [],
   "source": [
    "correct_weights = optimize_weights(returns)"
   ]
  },
  {
   "cell_type": "code",
   "execution_count": 481,
   "metadata": {},
   "outputs": [
    {
     "data": {
      "text/plain": [
       "<BarContainer object of 9 artists>"
      ]
     },
     "execution_count": 481,
     "metadata": {},
     "output_type": "execute_result"
    },
    {
     "data": {
      "image/png": "[encoded data removed]",
      "text/plain": [
       "<Figure size 432x288 with 1 Axes>"
      ]
     },
     "metadata": {},
     "output_type": "display_data"
    }
   ],
   "source": [
    "plt.bar(x=np.arange(len(correct_weights)), height=correct_weights)"
   ]
  },
  {
   "cell_type": "code",
   "execution_count": 482,
   "metadata": {
    "scrolled": true
   },
   "outputs": [
    {
     "data": {
      "text/plain": [
       "<BarContainer object of 9 artists>"
      ]
     },
     "execution_count": 482,
     "metadata": {},
     "output_type": "execute_result"
    },
    {
     "data": {
      "image/png": "[encoded data removed]",
      "text/plain": [
       "<Figure size 432x288 with 1 Axes>"
      ]
     },
     "metadata": {},
     "output_type": "display_data"
    }
   ],
   "source": [
    "exposures = factor_exposure(returns, correct_weights)\n",
    "\n",
    "plt.bar(x=np.arange(len(exposures)), height=exposures)"
   ]
  },
  {
   "cell_type": "code",
   "execution_count": 341,
   "metadata": {},
   "outputs": [],
   "source": [
    "def allocation_over_time(returns, weights):\n",
    "    \n",
    "    alloc = [100 * weights]\n",
    "    \n",
    "    for t in range(returns.shape[0]):\n",
    "        ret = returns.iloc[t,:].values\n",
    "        alloc.append((1+ret)*alloc[-1])\n",
    "                     \n",
    "    return alloc"
   ]
  },
  {
   "cell_type": "code",
   "execution_count": 475,
   "metadata": {},
   "outputs": [],
   "source": [
    "def exposures_losses_over_time(returns, returns_oos, weights):\n",
    "    \n",
    "    train_size = returns.shape[0]\n",
    "    losses = []\n",
    "    exposures = []\n",
    "    \n",
    "    for i in range(returns_oos.shape[0]):\n",
    "        returns = returns.iloc[1:,:].append(returns_oos.iloc[i,:])\n",
    "\n",
    "        exposure = factor_exposure(returns, weights)\n",
    "    \n",
    "        uniform = 1/len(exposure)\n",
    "        target = np.ones(len(exposure)) * uniform\n",
    "\n",
    "        probs = exposure * target + (1 - exposure) * (1 - target)\n",
    "        \n",
    "        losses.append(-np.sum(np.log(probs)))\n",
    "        exposures.append(exposure)\n",
    "        \n",
    "    return losses, exposures"
   ]
  },
  {
   "cell_type": "code",
   "execution_count": 549,
   "metadata": {},
   "outputs": [
    {
     "data": {
      "text/plain": [
       "[<matplotlib.lines.Line2D at 0x1f118d3e6a0>]"
      ]
     },
     "execution_count": 549,
     "metadata": {},
     "output_type": "execute_result"
    },
    {
     "data": {
      "image/png": "[encoded data removed]",
      "text/plain": [
       "<Figure size 432x288 with 1 Axes>"
      ]
     },
     "metadata": {},
     "output_type": "display_data"
    }
   ],
   "source": [
    "values = allocation_over_time(returns_oss, correct_weights)\n",
    "port_values = np.array([sum(stock) for stock in values])\n",
    "port_ret = (port_values[1:]-port_values[:-1])/port_values[:-1]\n",
    "plt.plot(port_values)"
   ]
  },
  {
   "cell_type": "code",
   "execution_count": 548,
   "metadata": {},
   "outputs": [
    {
     "data": {
      "text/plain": [
       "[<matplotlib.lines.Line2D at 0x1f118e6c7f0>]"
      ]
     },
     "execution_count": 548,
     "metadata": {},
     "output_type": "execute_result"
    },
    {
     "data": {
      "image/png": "[encoded data removed]",
      "text/plain": [
       "<Figure size 432x288 with 1 Axes>"
      ]
     },
     "metadata": {},
     "output_type": "display_data"
    }
   ],
   "source": [
    "equal_weights = np.ones(returns_oos.shape[1])/returns_oos.shape[1]\n",
    "values_eqw = allocation_over_time(returns_oos, equal_weights)\n",
    "port_values_eqw = np.array([sum(stock) for stock in values_eqw])\n",
    "port_ret_eqw = (port_values_eqw[1:]-port_values_eqw[:-1])/port_values_eqw[:-1]\n",
    "plt.plot(port_values_eqw)"
   ]
  },
  {
   "cell_type": "code",
   "execution_count": 532,
   "metadata": {
    "scrolled": true
   },
   "outputs": [],
   "source": [
    "losses_t, exp_t = exposures_losses_over_time(returns, returns_oos, correct_weights)"
   ]
  },
  {
   "cell_type": "code",
   "execution_count": 533,
   "metadata": {},
   "outputs": [
    {
     "data": {
      "text/plain": [
       "[<matplotlib.lines.Line2D at 0x1f119286390>]"
      ]
     },
     "execution_count": 533,
     "metadata": {},
     "output_type": "execute_result"
    },
    {
     "data": {
      "image/png": "[encoded data removed]",
      "text/plain": [
       "<Figure size 432x288 with 1 Axes>"
      ]
     },
     "metadata": {},
     "output_type": "display_data"
    }
   ],
   "source": [
    "plt.plot(losses_t)"
   ]
  },
  {
   "cell_type": "code",
   "execution_count": 567,
   "metadata": {},
   "outputs": [
    {
     "data": {
      "text/plain": [
       "0.17113811909493296"
      ]
     },
     "execution_count": 567,
     "metadata": {},
     "output_type": "execute_result"
    }
   ],
   "source": [
    "np.std(port_ret)*np.sqrt(252)"
   ]
  },
  {
   "cell_type": "code",
   "execution_count": 568,
   "metadata": {},
   "outputs": [
    {
     "data": {
      "text/plain": [
       "0.17205526613269773"
      ]
     },
     "execution_count": 568,
     "metadata": {},
     "output_type": "execute_result"
    }
   ],
   "source": [
    "np.std(port_ret_eqw)*np.sqrt(252)"
   ]
  },
  {
   "cell_type": "code",
   "execution_count": 570,
   "metadata": {},
   "outputs": [
    {
     "data": {
      "text/plain": [
       "0.8875340853223997"
      ]
     },
     "execution_count": 570,
     "metadata": {},
     "output_type": "execute_result"
    }
   ],
   "source": [
    "np.mean(port_ret)*252/(np.std(port_ret)*np.sqrt(252))"
   ]
  },
  {
   "cell_type": "code",
   "execution_count": 571,
   "metadata": {},
   "outputs": [
    {
     "data": {
      "text/plain": [
       "0.7969845226455691"
      ]
     },
     "execution_count": 571,
     "metadata": {},
     "output_type": "execute_result"
    }
   ],
   "source": [
    "np.mean(port_ret_eqw)*252/(np.std(port_ret_eqw)*np.sqrt(252))"
   ]
  },
  {
   "cell_type": "code",
   "execution_count": null,
   "metadata": {},
   "outputs": [],
   "source": []
  }
 ],
 "metadata": {
  "kernelspec": {
   "display_name": "Python 3",
   "language": "python",
   "name": "python3"
  },
  "language_info": {
   "codemirror_mode": {
    "name": "ipython",
    "version": 3
   },
   "file_extension": ".py",
   "mimetype": "text/x-python",
   "name": "python",
   "nbconvert_exporter": "python",
   "pygments_lexer": "ipython3",
   "version": "3.7.9"
  }
 },
 "nbformat": 4,
 "nbformat_minor": 2
}
